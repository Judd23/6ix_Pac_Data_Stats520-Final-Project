{
 "cells": [
  {
   "cell_type": "markdown",
   "id": "2383470a",
   "metadata": {},
   "source": [
    "# R — Raw dataset exploratory analysis\n",
    "\n",
    "This notebook reads the project's SPSS `.sav` dataset and performs quick exploratory analysis: dimensions, glimpse, summary, missingness, and a simple histogram using ggplot2.\n",
    "\n",
    "Required packages: haven, dplyr, ggplot2, janitor\n",
    "\n",
    "If a package is missing, install with:\n",
    "\n",
    "install.packages(c('haven','dplyr','ggplot2','janitor'))\n"
   ]
  },
  {
   "cell_type": "code",
   "execution_count": null,
   "id": "92e7a82a",
   "metadata": {
    "vscode": {
     "languageId": "r"
    }
   },
   "outputs": [],
   "source": [
    "# Load libraries\n",
    "library(haven)\n",
    "library(dplyr)\n",
    "library(ggplot2)\n",
    "library(janitor)\n",
    "\n",
    "# Default file path (repo-relative)\n",
    "default_path <- \"../6ix_Pac_Data_Stats520-Final-Project/data/raw/2025_ED_852_HERI_data.sav\"\n",
    "cat('Default dataset path:', default_path, '\\n')\n",
    "\n",
    "# Try reading the file\n",
    "if (file.exists(default_path)) {\n",
    "  df <- read_sav(default_path)\n",
    "  cat('Loaded dataset successfully\\n')\n",
    "} else {\n",
    "  cat('Default path not found. Please set `default_path` to the correct file path.\\n')\n",
    "  df <- NULL\n",
    "}\n",
    "\n",
    "# Quick EDA if loaded\n",
    "if (!is.null(df)) {\n",
    "  cat('Dimensions: ', dim(df), '\\n')\n",
    "  print(dplyr::glimpse(df))\n",
    "  cat('\\nSummary:\\n')\n",
    "  print(summary(df))\n",
    "  cat('\\nMissingness (count per column):\\n')\n",
    "  print(colSums(is.na(df))[order(-colSums(is.na(df)))[1:20]])\n",
    "\n",
    "  # plot histogram of first numeric column\n",
    "  num_cols <- names(df)[sapply(df, is.numeric)]\n",
    "  if (length(num_cols) > 0) {\n",
    "    p <- ggplot(as.data.frame(df), aes_string(x = num_cols[1])) +\n",
    "      geom_histogram(bins=30, fill='steelblue', color='white') +\n",
    "      theme_minimal() +\n",
    "      ggtitle(paste('Histogram of', num_cols[1]))\n",
    "    print(p)\n",
    "  } else {\n",
    "    cat('No numeric columns detected for plotting.\\n')\n",
    "  }\n",
    "} else {\n",
    "  cat('No data frame available. Notebook will stop here.\\n')\n",
    "}\n"
   ]
  }
 ],
 "metadata": {
  "language_info": {
   "name": "python"
  }
 },
 "nbformat": 4,
 "nbformat_minor": 5
}
