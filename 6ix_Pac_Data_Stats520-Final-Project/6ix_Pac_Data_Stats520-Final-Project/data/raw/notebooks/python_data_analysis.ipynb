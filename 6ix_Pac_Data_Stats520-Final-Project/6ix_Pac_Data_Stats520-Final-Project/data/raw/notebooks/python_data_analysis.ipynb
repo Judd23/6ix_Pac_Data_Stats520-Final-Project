{
 "cells": [
  {
   "cell_type": "markdown",
   "id": "74dc7cf8",
   "metadata": {},
   "source": [
    "# Python — Raw dataset exploratory analysis\n",
    "\n",
    "This notebook loads the project's raw dataset and runs quick exploratory analysis: shape, head, summary stats, missingness, and a simple numeric plot. It uses pandas and pyreadstat to read SPSS `.sav` files.\n",
    "\n",
    "Required packages: pandas, pyreadstat, matplotlib, seaborn\n",
    "\n",
    "If a package is missing, install with:\n",
    "\n",
    "!pip install pandas pyreadstat matplotlib seaborn\n"
   ]
  },
  {
   "cell_type": "code",
   "execution_count": null,
   "id": "7eb04e08",
   "metadata": {},
   "outputs": [],
   "source": [
    "# Imports and plotting setup\n",
    "import pandas as pd\n",
    "import pyreadstat\n",
    "import matplotlib.pyplot as plt\n",
    "import seaborn as sns\n",
    "\n",
    "sns.set(style=\"whitegrid\")\n",
    "\n",
    "# Default file path (repo-relative). Update if your workspace layout differs.\n",
    "default_path = \"../6ix_Pac_Data_Stats520-Final-Project/data/raw/2025_ED_852_HERI_data.sav\"\n",
    "\n",
    "print(\"Default dataset path:\", default_path)\n"
   ]
  },
  {
   "cell_type": "code",
   "execution_count": null,
   "id": "9ba6952e",
   "metadata": {},
   "outputs": [],
   "source": [
    "# Load the SPSS .sav file into a pandas DataFrame\n",
    "try:\n",
    "    df, meta = pyreadstat.read_sav(default_path)\n",
    "    print(\"Loaded dataset successfully\")\n",
    "except Exception as e:\n",
    "    print(\"Failed to load dataset:\", e)\n",
    "    # Try prompting the user\n",
    "    from pathlib import Path\n",
    "    p = input(\"Enter path to 2025_ED_852_HERI_data.sav (or press Enter to abort): \")\n",
    "    if p:\n",
    "        df, meta = pyreadstat.read_sav(p)\n",
    "    else:\n",
    "        df = None\n",
    "\n",
    "# Quick inspections if loaded\n",
    "if df is not None:\n",
    "    print(\"DataFrame shape:\", df.shape)\n",
    "    display(df.head(10))\n",
    "    print('\\nInfo:')\n",
    "    print(df.info())\n",
    "    print('\\nDescribe (numeric):')\n",
    "    display(df.describe(include='number').T)\n",
    "    print('\\nMissingness summary:')\n",
    "    print(df.isnull().sum().sort_values(ascending=False).head(20))\n",
    "\n",
    "    # Plot: histogram of the first numeric column\n",
    "    numeric_cols = df.select_dtypes(include=['number']).columns\n",
    "    if len(numeric_cols) > 0:\n",
    "        first_numeric = numeric_cols[0]\n",
    "        plt.figure(figsize=(8,4))\n",
    "        sns.histplot(df[first_numeric].dropna(), kde=True)\n",
    "        plt.title(f'Histogram of {first_numeric}')\n",
    "        plt.show()\n",
    "    else:\n",
    "        print('No numeric columns detected for plotting.')\n",
    "else:\n",
    "    print('No DataFrame available. Notebook will stop here.')\n"
   ]
  }
 ],
 "metadata": {
  "language_info": {
   "name": "python"
  }
 },
 "nbformat": 4,
 "nbformat_minor": 5
}
